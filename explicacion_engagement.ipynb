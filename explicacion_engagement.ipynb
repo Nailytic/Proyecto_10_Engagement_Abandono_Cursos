{
 "cells": [
  {
   "cell_type": "markdown",
   "id": "a10fd60f",
   "metadata": {},
   "source": [
    "# 📘 Proyecto 10: Análisis de Engagement y Abandono"
   ]
  },
  {
   "cell_type": "markdown",
   "id": "c32ffdf4",
   "metadata": {},
   "source": [
    "Este notebook explica cómo se analiza el comportamiento inicial de los estudiantes para detectar posibles abandonos."
   ]
  },
  {
   "cell_type": "markdown",
   "id": "0d5cc94c",
   "metadata": {},
   "source": [
    "## Métricas clave\n",
    "- Accesos\n",
    "- Progreso\n",
    "- Tareas entregadas\n",
    "- Tiempo por sesión"
   ]
  },
  {
   "cell_type": "markdown",
   "id": "81cf13bf",
   "metadata": {},
   "source": [
    "## Visualización\n",
    "Boxplot comparativo de progreso por grupo (abandona / no abandona)."
   ]
  },
  {
   "cell_type": "markdown",
   "id": "5a23be24",
   "metadata": {},
   "source": [
    "## Conclusión\n",
    "Permite establecer alertas tempranas y acciones preventivas en entornos virtuales."
   ]
  }
 ],
 "metadata": {
  "kernelspec": {
   "display_name": "Python 3",
   "language": "python",
   "name": "python3"
  },
  "language_info": {
   "name": "python",
   "version": "3.9"
  }
 },
 "nbformat": 4,
 "nbformat_minor": 5
}
